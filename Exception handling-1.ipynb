{
 "cells": [
  {
   "cell_type": "raw",
   "id": "5254de46-66c0-4aaf-b7ed-460e63bbbe03",
   "metadata": {},
   "source": [
    "Q1. What is an Exception in python? Write the differenec between Exceptionsnd syntax errors."
   ]
  },
  {
   "cell_type": "raw",
   "id": "5169a783-fba1-4188-abc8-32cd01b30c99",
   "metadata": {},
   "source": [
    "Exception-\n",
    "An exception is an object that represents an error or unexpected condition that occurs during the execution of a program. When an \n",
    "exception is raised, Python stops executing the current block of code and looks for an exception handler to handle it.\n",
    "\n",
    "SyntaxError-\n",
    "Errors in the code's syntax that prevent the program from running. They must be corrected before the program can execute."
   ]
  },
  {
   "cell_type": "markdown",
   "id": "834b1765-c082-45f6-a5b9-8fcd1647943b",
   "metadata": {},
   "source": [
    "Q2.What Happens When an Exception is Not Handled?"
   ]
  },
  {
   "cell_type": "raw",
   "id": "5075471e-5306-4e58-aff5-f27ffaa276e5",
   "metadata": {},
   "source": [
    "When an exception is not handled in Python, the program will terminate immediately, and an error message will be displayed. \n",
    "This error message includes information about the type of exception that occurred and the location in the code where the exception was raised.\n",
    "If exceptions are not caught, the program will not continue executing subsequent code after the point where the exception occurred"
   ]
  },
  {
   "cell_type": "code",
   "execution_count": 3,
   "id": "fb3dbe1a-4d9b-4c32-a958-2b53266687c2",
   "metadata": {},
   "outputs": [
    {
     "ename": "ZeroDivisionError",
     "evalue": "division by zero",
     "output_type": "error",
     "traceback": [
      "\u001b[1;31m---------------------------------------------------------------------------\u001b[0m",
      "\u001b[1;31mZeroDivisionError\u001b[0m                         Traceback (most recent call last)",
      "Cell \u001b[1;32mIn[3], line 5\u001b[0m\n\u001b[0;32m      1\u001b[0m \u001b[38;5;28;01mdef\u001b[39;00m \u001b[38;5;21mdivide_numbers\u001b[39m(a, b):\n\u001b[0;32m      2\u001b[0m     \u001b[38;5;28;01mreturn\u001b[39;00m a \u001b[38;5;241m/\u001b[39m b\n\u001b[1;32m----> 5\u001b[0m result \u001b[38;5;241m=\u001b[39m divide_numbers(\u001b[38;5;241m10\u001b[39m, \u001b[38;5;241m0\u001b[39m)\n\u001b[0;32m      6\u001b[0m \u001b[38;5;28mprint\u001b[39m(\u001b[38;5;124m\"\u001b[39m\u001b[38;5;124mThe result is\u001b[39m\u001b[38;5;124m\"\u001b[39m, result)\n",
      "Cell \u001b[1;32mIn[3], line 2\u001b[0m, in \u001b[0;36mdivide_numbers\u001b[1;34m(a, b)\u001b[0m\n\u001b[0;32m      1\u001b[0m \u001b[38;5;28;01mdef\u001b[39;00m \u001b[38;5;21mdivide_numbers\u001b[39m(a, b):\n\u001b[1;32m----> 2\u001b[0m     \u001b[38;5;28;01mreturn\u001b[39;00m a \u001b[38;5;241m/\u001b[39m b\n",
      "\u001b[1;31mZeroDivisionError\u001b[0m: division by zero"
     ]
    }
   ],
   "source": [
    "def divide_numbers(a, b):\n",
    "    return a / b\n",
    "\n",
    "\n",
    "result = divide_numbers(10, 0)\n",
    "print(\"The result is\", result)\n"
   ]
  },
  {
   "cell_type": "code",
   "execution_count": 4,
   "id": "0c289f4d-90d1-4bd1-bba2-113e0b6cab19",
   "metadata": {},
   "outputs": [],
   "source": [
    "#see here above exception or error message is hown if an exception is not handled"
   ]
  },
  {
   "cell_type": "markdown",
   "id": "c1f9af28-555d-46fd-98f4-c7fdf603d6a5",
   "metadata": {},
   "source": [
    "Q3:Which Python statements are used to catch and handle exceptions? Explain with an example."
   ]
  },
  {
   "cell_type": "raw",
   "id": "3c872664-7d2e-48e9-b66e-bea68b373579",
   "metadata": {},
   "source": [
    "The below statements are used to catch the exception-\n",
    "1.try-It defines a block of code that might raise an exception. This is where we place the code that could potentially cause an error.\n",
    "It  is used to encapsulate the code that we want to test for exceptions.   \n",
    "                                                        \n",
    "2.except- It catches exceptions raised by the try block. We can specify the type of exception to catch or catch all exceptions.\n",
    "We can have multiple except blocks to handle different types of exceptions differently.\n",
    "\n",
    "3.else-This executes if no exceptions are raised in the try block. It is optional and is used to define code that should run when the try \n",
    "block succeeds.\n",
    "\n",
    "4.finally-This executes regardless of whether an exception was raised or not. It is typically used for cleanup actions.\n",
    "The finally block is useful for closing files, releasing resources, or other cleanup tasks.\n"
   ]
  },
  {
   "cell_type": "code",
   "execution_count": 6,
   "id": "9186e5b4-2ea9-41e3-b5e3-e81ed0cba8c5",
   "metadata": {},
   "outputs": [
    {
     "name": "stdout",
     "output_type": "stream",
     "text": [
      "Error: Cannot divide by zero\n",
      "Execution completed\n"
     ]
    }
   ],
   "source": [
    "def divide_numbers(a, b):\n",
    "    return a / b\n",
    "\n",
    "try:\n",
    "    result = divide_numbers(10, 0)\n",
    "except ZeroDivisionError:\n",
    "    print(\"Error: Cannot divide by zero\")\n",
    "except TypeError:\n",
    "    print(\"Error: Invalid type\")\n",
    "else:\n",
    "    print(\"The result is\", result)\n",
    "finally:\n",
    "    print(\"Execution completed\")\n"
   ]
  },
  {
   "cell_type": "code",
   "execution_count": 8,
   "id": "6a174d60-d019-497a-b8c8-90fe3a82e040",
   "metadata": {},
   "outputs": [
    {
     "name": "stdout",
     "output_type": "stream",
     "text": [
      "The result is 5.0\n"
     ]
    }
   ],
   "source": [
    "# Q4.Explain with example-\n",
    "# 1.try and else \n",
    "try:\n",
    "    result = 10 / 2\n",
    "except ZeroDivisionError:\n",
    "    print(\"Error: Cannot divide by zero\")\n",
    "else:\n",
    "    print(\"The result is\", result)\n",
    "\n",
    "\n"
   ]
  },
  {
   "cell_type": "code",
   "execution_count": 9,
   "id": "381710ef-b823-499c-a7f6-c164d5dc8d8f",
   "metadata": {},
   "outputs": [
    {
     "name": "stdout",
     "output_type": "stream",
     "text": [
      "Error: Cannot divide by zero\n",
      "Execution completed\n"
     ]
    }
   ],
   "source": [
    "#finally\n",
    "def divide_numbers(a, b):\n",
    "    return a / b\n",
    "\n",
    "try:\n",
    "    result = divide_numbers(10, 0)\n",
    "except ZeroDivisionError:\n",
    "    print(\"Error: Cannot divide by zero\")\n",
    "finally:\n",
    "    print(\"Execution completed\")"
   ]
  },
  {
   "cell_type": "code",
   "execution_count": 10,
   "id": "a4c9fc6f-a1d0-44f6-9b48-f78fa4f6c7c9",
   "metadata": {},
   "outputs": [
    {
     "name": "stdout",
     "output_type": "stream",
     "text": [
      "Error: The number must be positive\n"
     ]
    }
   ],
   "source": [
    "#raise\n",
    "def check_positive(number):\n",
    "    if number <= 0:\n",
    "        raise ValueError(\"The number must be positive\")\n",
    "    return number\n",
    "\n",
    "try:\n",
    "    number = check_positive(-5)\n",
    "except ValueError as e:\n",
    "    print(f\"Error: {e}\")\n"
   ]
  },
  {
   "cell_type": "raw",
   "id": "9bcec2f0-0c41-45a4-9195-3e56f7732ec1",
   "metadata": {},
   "source": [
    "#Q4.Q5. What are Custom Exceptions in python?why do we need custom exception?\n",
    "Custom exceptions are user-defined exceptions that extend the built-in Exception class or its subclasses.\n",
    "\n",
    "Need of custome exception-\n",
    "Clarity: Custom exceptions can make error handling more meaningful and specific to the context of our application.\n",
    "Granularity: They allow us to differentiate between different error conditions in a more structured way.\n",
    "Maintainability: Custom exceptions improve code readability and maintainability by providing context-specific error messages."
   ]
  },
  {
   "cell_type": "code",
   "execution_count": 11,
   "id": "1496a552-ad9e-42dd-a21c-5a41820b4b47",
   "metadata": {},
   "outputs": [],
   "source": [
    "class InsufficientFundsError(Exception):\n",
    "    def __init__(self, amount, balance):\n",
    "        self.amount = amount\n",
    "        self.balance = balance\n",
    "        super().__init__(f\"Insufficient funds: Tried to withdraw {amount}, but only {balance} available.\")\n"
   ]
  },
  {
   "cell_type": "code",
   "execution_count": 12,
   "id": "2d84cbb1-5ed8-46ff-9555-df94400230c9",
   "metadata": {},
   "outputs": [
    {
     "name": "stdout",
     "output_type": "stream",
     "text": [
      "Insufficient funds: Tried to withdraw 150, but only 100 available.\n"
     ]
    }
   ],
   "source": [
    "class BankAccount:\n",
    "    def __init__(self, balance):\n",
    "        self.balance = balance\n",
    "\n",
    "    def withdraw(self, amount):\n",
    "        if amount > self.balance:\n",
    "            raise InsufficientFundsError(amount, self.balance)\n",
    "        self.balance -= amount\n",
    "        print(f\"Withdrawn {amount}, remaining balance {self.balance}\")\n",
    "\n",
    "# Example usage\n",
    "try:\n",
    "    account = BankAccount(100)\n",
    "    account.withdraw(150)\n",
    "except InsufficientFundsError as e:\n",
    "    print(e)\n"
   ]
  },
  {
   "cell_type": "code",
   "execution_count": 13,
   "id": "78fe2bcc-1bd7-4a1a-bbf4-0911b556641d",
   "metadata": {},
   "outputs": [],
   "source": [
    "#Q6. create a custome exception class.use this class to handle the exception."
   ]
  },
  {
   "cell_type": "code",
   "execution_count": 17,
   "id": "1bdbfc2f-de9a-4197-8a26-18fa6d3e94c5",
   "metadata": {},
   "outputs": [],
   "source": [
    "class InvalidAge(Exception):\n",
    "    def __init__(self,age,message=\"age must be positive and less than 120\"):\n",
    "        self.age=age\n",
    "        self.message=message\n",
    "        super().__init__(self.message)"
   ]
  },
  {
   "cell_type": "code",
   "execution_count": 18,
   "id": "cb365236-e47a-4224-81a0-158631bd62de",
   "metadata": {},
   "outputs": [],
   "source": [
    "def set_age(age):\n",
    "    if age < 0 or age > 120:\n",
    "        raise InvalidAgeError(age)\n",
    "    print(f\"Age set to {age}\")"
   ]
  },
  {
   "cell_type": "code",
   "execution_count": 16,
   "id": "e6906a36-7ea5-45e4-bd56-955bfd513a50",
   "metadata": {},
   "outputs": [
    {
     "ename": "NameError",
     "evalue": "name 'InvalidAgeError' is not defined",
     "output_type": "error",
     "traceback": [
      "\u001b[1;31m---------------------------------------------------------------------------\u001b[0m",
      "\u001b[1;31mNameError\u001b[0m                                 Traceback (most recent call last)",
      "Cell \u001b[1;32mIn[16], line 2\u001b[0m\n\u001b[0;32m      1\u001b[0m \u001b[38;5;28;01mtry\u001b[39;00m:\n\u001b[1;32m----> 2\u001b[0m     set_age(\u001b[38;5;241m150\u001b[39m) \n\u001b[0;32m      3\u001b[0m \u001b[38;5;28;01mexcept\u001b[39;00m InvalidAgeError \u001b[38;5;28;01mas\u001b[39;00m e:\n",
      "Cell \u001b[1;32mIn[15], line 3\u001b[0m, in \u001b[0;36mset_age\u001b[1;34m(age)\u001b[0m\n\u001b[0;32m      2\u001b[0m \u001b[38;5;28;01mif\u001b[39;00m age \u001b[38;5;241m<\u001b[39m \u001b[38;5;241m0\u001b[39m \u001b[38;5;129;01mor\u001b[39;00m age \u001b[38;5;241m>\u001b[39m \u001b[38;5;241m120\u001b[39m:\n\u001b[1;32m----> 3\u001b[0m     \u001b[38;5;28;01mraise\u001b[39;00m InvalidAgeError(age)\n\u001b[0;32m      4\u001b[0m \u001b[38;5;28mprint\u001b[39m(\u001b[38;5;124mf\u001b[39m\u001b[38;5;124m\"\u001b[39m\u001b[38;5;124mAge set to \u001b[39m\u001b[38;5;132;01m{\u001b[39;00mage\u001b[38;5;132;01m}\u001b[39;00m\u001b[38;5;124m\"\u001b[39m)\n",
      "\u001b[1;31mNameError\u001b[0m: name 'InvalidAgeError' is not defined",
      "\nDuring handling of the above exception, another exception occurred:\n",
      "\u001b[1;31mNameError\u001b[0m                                 Traceback (most recent call last)",
      "Cell \u001b[1;32mIn[16], line 3\u001b[0m\n\u001b[0;32m      1\u001b[0m \u001b[38;5;28;01mtry\u001b[39;00m:\n\u001b[0;32m      2\u001b[0m     set_age(\u001b[38;5;241m150\u001b[39m) \n\u001b[1;32m----> 3\u001b[0m \u001b[38;5;28;01mexcept\u001b[39;00m InvalidAgeError \u001b[38;5;28;01mas\u001b[39;00m e:\n\u001b[0;32m      4\u001b[0m     \u001b[38;5;28mprint\u001b[39m(\u001b[38;5;124mf\u001b[39m\u001b[38;5;124m\"\u001b[39m\u001b[38;5;124mError: \u001b[39m\u001b[38;5;132;01m{\u001b[39;00me\u001b[38;5;241m.\u001b[39mmessage\u001b[38;5;132;01m}\u001b[39;00m\u001b[38;5;124m (provided age: \u001b[39m\u001b[38;5;132;01m{\u001b[39;00me\u001b[38;5;241m.\u001b[39mage\u001b[38;5;132;01m}\u001b[39;00m\u001b[38;5;124m)\u001b[39m\u001b[38;5;124m\"\u001b[39m)\n",
      "\u001b[1;31mNameError\u001b[0m: name 'InvalidAgeError' is not defined"
     ]
    }
   ],
   "source": [
    "try:\n",
    "    set_age(150) \n",
    "except InvalidAgeError as e:\n",
    "    print(f\"Error: {e.message} (provided age: {e.age})\")"
   ]
  },
  {
   "cell_type": "code",
   "execution_count": null,
   "id": "9e0524c3-7cdd-4dfc-8857-9a859a42f168",
   "metadata": {},
   "outputs": [],
   "source": []
  }
 ],
 "metadata": {
  "kernelspec": {
   "display_name": "Python 3 (ipykernel)",
   "language": "python",
   "name": "python3"
  },
  "language_info": {
   "codemirror_mode": {
    "name": "ipython",
    "version": 3
   },
   "file_extension": ".py",
   "mimetype": "text/x-python",
   "name": "python",
   "nbconvert_exporter": "python",
   "pygments_lexer": "ipython3",
   "version": "3.12.4"
  }
 },
 "nbformat": 4,
 "nbformat_minor": 5
}
